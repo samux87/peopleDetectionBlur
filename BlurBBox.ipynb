{
 "cells": [
  {
   "cell_type": "code",
   "execution_count": null,
   "metadata": {},
   "outputs": [],
   "source": [
    "# Created by Samuele Buosi on 18/4/19"
   ]
  },
  {
   "cell_type": "code",
   "execution_count": 1,
   "metadata": {},
   "outputs": [
    {
     "name": "stdout",
     "output_type": "stream",
     "text": [
      "/home/sam/anaconda3/envs/darknetpy_env/lib/python3.7/site-packages/pyyolo/libdarknet.so\n"
     ]
    }
   ],
   "source": [
    "#import library\n",
    "import numpy as np\n",
    "import cv2\n",
    "import pyyolo"
   ]
  },
  {
   "cell_type": "code",
   "execution_count": 2,
   "metadata": {},
   "outputs": [],
   "source": [
    "# network loading\n",
    "meta_filepath = b\"/home/sam/Desktop/peopleDetector/darknet/cfg/coco.data\"\n",
    "cfg_filepath = b\"/home/sam/Desktop/peopleDetector/darknet/cfg/yolov3Pred.cfg\"\n",
    "weights_filepath = b\"/home/sam/Desktop/peopleDetector/darknet/yolov3.weights\"\n",
    "\n",
    "meta = pyyolo.load_meta(meta_filepath)\n",
    "net = pyyolo.load_net(cfg_filepath, weights_filepath, False)"
   ]
  },
  {
   "cell_type": "code",
   "execution_count": 5,
   "metadata": {},
   "outputs": [],
   "source": [
    "# blur BBOX\n",
    "#Open video\n",
    "cap = cv2.VideoCapture('/home/sam/Desktop/Video_Fergus/matrimonio/DJI_0315.MOV')\n",
    "while(cap.isOpened()):\n",
    "    ret, frame = cap.read()\n",
    "    if not ret:\n",
    "        break\n",
    "        \n",
    "    # BONUS: resize frame, non necessario     \n",
    "    frame = cv2.resize(frame, (768, 576))\n",
    "\n",
    "    yolo_img = pyyolo.array_to_image(frame)\n",
    "    res = pyyolo.detect(net, meta, yolo_img)\n",
    "    \n",
    "    \n",
    "    for r in res:\n",
    "        # skip se non e' la classe desiderata: person\n",
    "        if r.name != b'person':\n",
    "            continue\n",
    "            \n",
    "        # test\n",
    "        #print(r.bbox)\n",
    "        \n",
    "        cv2.rectangle(frame, r.bbox.get_point(pyyolo.BBox.Location.TOP_LEFT, is_int=True),\n",
    "                      r.bbox.get_point(pyyolo.BBox.Location.BOTTOM_RIGHT, is_int=True), (0, 255, 0), 2)\n",
    "\n",
    "        #Blur BBOX\n",
    "        # seleziono la parte del frame che voglio oscurare \n",
    "        pto1 = r.bbox.get_point(pyyolo.BBox.Location.TOP_LEFT, is_int=True)\n",
    "        x1=pto1[0]\n",
    "        y1=pto1[1]\n",
    "        pto2 = r.bbox.get_point(pyyolo.BBox.Location.BOTTOM_RIGHT, is_int=True)\n",
    "        x2=pto2[0]\n",
    "        y2=pto2[1]\n",
    "        # lasse y e' invertito!!!\n",
    "        h = y2-y1\n",
    "        w = x2-x1\n",
    "        x3= x1 + (w//4)\n",
    "        y3= y1 + (h//19)\n",
    "        x4= x3 + (w//2)\n",
    "        y4= y3 + (h//6)\n",
    "        x5 = x2\n",
    "        y5= y1 + h//4\n",
    "        # img[y:y+h, x:x+w]\n",
    "        #imgmask = frame[y1:y2, x1:x2] # all rect\n",
    "        #imgmask = frame[y3:y4, x3:x4] # a square\n",
    "        imgmask = frame[y1:y5, x1:x5]\n",
    "        \n",
    "        # applico un filtro per il blur\n",
    "        imgmask = cv2.GaussianBlur(imgmask,(15,15),0)\n",
    "\n",
    "        # inserisco la parte oscurata nel video, ATTENZIONE che le dimensioni siano giuste\n",
    "        #frame[y1:y2, x1:x2] = imgmask # all rect\n",
    "        #frame[y3:y4, x3:x4] = imgmask # a square\n",
    "        frame[y1:y5, x1:x5] = imgmask\n",
    "            \n",
    "    cv2.imshow('frame', frame)\n",
    "    if cv2.waitKey(1) & 0xFF == ord('q'):\n",
    "        break\n",
    "\n",
    "cap.release()\n",
    "cv2.destroyAllWindows()"
   ]
  },
  {
   "cell_type": "code",
   "execution_count": null,
   "metadata": {},
   "outputs": [],
   "source": []
  },
  {
   "cell_type": "code",
   "execution_count": null,
   "metadata": {},
   "outputs": [],
   "source": [
    "# Blur face + BBox\n",
    "# Double detector at the same time (too slow for real time application)\n",
    "face_cascade = cv2.CascadeClassifier('haarcascade_frontalface_default.xml')\n",
    "fullbody_cascade = cv2.CascadeClassifier('haarcascade_fullbody.xml.xml')\n",
    "\n",
    "while(cap.isOpened()):\n",
    "    ret, frame = cap.read()\n",
    "    if not ret:\n",
    "        break\n",
    "        \n",
    "    # BONUS: resize frame, non necessario     \n",
    "    frame = cv2.resize(frame, (1024, 1024))\n",
    "\n",
    "    yolo_img = pyyolo.array_to_image(frame)\n",
    "    res = pyyolo.detect(net, meta, yolo_img)\n",
    "   \n",
    "    for r in res:\n",
    "        cv2.rectangle(frame, r.bbox.get_point(pyyolo.BBox.Location.TOP_LEFT, is_int=True),\n",
    "                      r.bbox.get_point(pyyolo.BBox.Location.BOTTOM_RIGHT, is_int=True), (0, 255, 0), 2)\n",
    "        \n",
    "        # pti di riferimento ROI\n",
    "        pto1 = r.bbox.get_point(pyyolo.BBox.Location.TOP_LEFT, is_int=True)\n",
    "        x1=pto1[0]\n",
    "        y1=pto1[1]\n",
    "        pto2 = r.bbox.get_point(pyyolo.BBox.Location.BOTTOM_RIGHT, is_int=True)\n",
    "        x2=pto2[0]\n",
    "        y2=pto2[1]\n",
    "        \n",
    "        # seleziono porzione di immagine da analizzare per il blur faccia\n",
    "        roi = frame[y1:y2, x1:x2]\n",
    "     \n",
    "        faces = face_cascade.detectMultiScale(frame, 1.3, 5)\n",
    "        print(faces)\n",
    "        for (x,y,w,h) in faces:\n",
    "            cv2.rectangle(frame,(x,y),(x+w,y+h),(255,0,0),2)\n",
    "            #roi_color = img[y:y+h, x:x+w]\n",
    "            \n",
    "            \n",
    "            \n",
    "    cv2.imshow('frame', frame)\n",
    "    if cv2.waitKey(1) & 0xFF == ord('q'):\n",
    "        break\n",
    "\n",
    "cap.release()\n",
    "cv2.destroyAllWindows()"
   ]
  },
  {
   "cell_type": "code",
   "execution_count": null,
   "metadata": {},
   "outputs": [],
   "source": []
  }
 ],
 "metadata": {
  "kernelspec": {
   "display_name": "Python 3",
   "language": "python",
   "name": "python3"
  },
  "language_info": {
   "codemirror_mode": {
    "name": "ipython",
    "version": 3
   },
   "file_extension": ".py",
   "mimetype": "text/x-python",
   "name": "python",
   "nbconvert_exporter": "python",
   "pygments_lexer": "ipython3",
   "version": "3.7.2"
  }
 },
 "nbformat": 4,
 "nbformat_minor": 2
}
